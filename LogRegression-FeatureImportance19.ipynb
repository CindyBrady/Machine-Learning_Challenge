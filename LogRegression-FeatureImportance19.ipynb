{
 "cells": [
  {
   "cell_type": "code",
   "execution_count": null,
   "metadata": {
    "scrolled": false
   },
   "outputs": [],
   "source": [
    "# Update sklearn to prevent version mismatches\n",
    "!pip install sklearn --upgrade"
   ]
  },
  {
   "cell_type": "code",
   "execution_count": 2,
   "metadata": {},
   "outputs": [
    {
     "name": "stdout",
     "output_type": "stream",
     "text": [
      "Requirement already satisfied: joblib in c:\\users\\cindy\\anaconda3\\lib\\site-packages (1.0.0)\n"
     ]
    }
   ],
   "source": [
    "# install joblib. This will be used to save your model. \n",
    "# Restart your kernel after installing \n",
    "!pip install joblib"
   ]
  },
  {
   "cell_type": "code",
   "execution_count": 1,
   "metadata": {},
   "outputs": [],
   "source": [
    "import pandas as pd\n",
    "import numpy as np\n",
    "from matplotlib import pyplot"
   ]
  },
  {
   "cell_type": "markdown",
   "metadata": {},
   "source": [
    "# Read the CSV and Perform Basic Data Cleaning"
   ]
  },
  {
   "cell_type": "code",
   "execution_count": 2,
   "metadata": {},
   "outputs": [
    {
     "data": {
      "text/html": [
       "<div>\n",
       "<style scoped>\n",
       "    .dataframe tbody tr th:only-of-type {\n",
       "        vertical-align: middle;\n",
       "    }\n",
       "\n",
       "    .dataframe tbody tr th {\n",
       "        vertical-align: top;\n",
       "    }\n",
       "\n",
       "    .dataframe thead th {\n",
       "        text-align: right;\n",
       "    }\n",
       "</style>\n",
       "<table border=\"1\" class=\"dataframe\">\n",
       "  <thead>\n",
       "    <tr style=\"text-align: right;\">\n",
       "      <th></th>\n",
       "      <th>GAME_SEQUENCE</th>\n",
       "      <th>GAME_ID</th>\n",
       "      <th>TEAM_ID</th>\n",
       "      <th>PTS_QTR1</th>\n",
       "      <th>PTS_QTR2</th>\n",
       "      <th>PTS_QTR3</th>\n",
       "      <th>PTS_QTR4</th>\n",
       "      <th>PTS_OT1</th>\n",
       "      <th>PTS_OT2</th>\n",
       "      <th>PTS_OT3</th>\n",
       "      <th>PTS_OT4</th>\n",
       "      <th>PTS</th>\n",
       "      <th>FG_PCT</th>\n",
       "      <th>FT_PCT</th>\n",
       "      <th>FG3_PCT</th>\n",
       "      <th>AST</th>\n",
       "      <th>REB</th>\n",
       "      <th>TOV</th>\n",
       "      <th>Playoffs</th>\n",
       "    </tr>\n",
       "  </thead>\n",
       "  <tbody>\n",
       "    <tr>\n",
       "      <th>0</th>\n",
       "      <td>1</td>\n",
       "      <td>21800001</td>\n",
       "      <td>1610612755</td>\n",
       "      <td>21</td>\n",
       "      <td>21</td>\n",
       "      <td>24</td>\n",
       "      <td>21</td>\n",
       "      <td>0</td>\n",
       "      <td>0</td>\n",
       "      <td>0</td>\n",
       "      <td>0</td>\n",
       "      <td>87</td>\n",
       "      <td>0.391</td>\n",
       "      <td>0.609</td>\n",
       "      <td>0.192</td>\n",
       "      <td>18</td>\n",
       "      <td>47</td>\n",
       "      <td>16</td>\n",
       "      <td>1</td>\n",
       "    </tr>\n",
       "    <tr>\n",
       "      <th>1</th>\n",
       "      <td>1</td>\n",
       "      <td>21800001</td>\n",
       "      <td>1610612755</td>\n",
       "      <td>21</td>\n",
       "      <td>21</td>\n",
       "      <td>24</td>\n",
       "      <td>21</td>\n",
       "      <td>0</td>\n",
       "      <td>0</td>\n",
       "      <td>0</td>\n",
       "      <td>0</td>\n",
       "      <td>87</td>\n",
       "      <td>0.391</td>\n",
       "      <td>0.609</td>\n",
       "      <td>0.192</td>\n",
       "      <td>18</td>\n",
       "      <td>47</td>\n",
       "      <td>16</td>\n",
       "      <td>1</td>\n",
       "    </tr>\n",
       "    <tr>\n",
       "      <th>2</th>\n",
       "      <td>1</td>\n",
       "      <td>21800001</td>\n",
       "      <td>1610612755</td>\n",
       "      <td>21</td>\n",
       "      <td>21</td>\n",
       "      <td>24</td>\n",
       "      <td>21</td>\n",
       "      <td>0</td>\n",
       "      <td>0</td>\n",
       "      <td>0</td>\n",
       "      <td>0</td>\n",
       "      <td>87</td>\n",
       "      <td>0.391</td>\n",
       "      <td>0.609</td>\n",
       "      <td>0.192</td>\n",
       "      <td>18</td>\n",
       "      <td>47</td>\n",
       "      <td>16</td>\n",
       "      <td>1</td>\n",
       "    </tr>\n",
       "    <tr>\n",
       "      <th>3</th>\n",
       "      <td>1</td>\n",
       "      <td>21800001</td>\n",
       "      <td>1610612755</td>\n",
       "      <td>21</td>\n",
       "      <td>21</td>\n",
       "      <td>24</td>\n",
       "      <td>21</td>\n",
       "      <td>0</td>\n",
       "      <td>0</td>\n",
       "      <td>0</td>\n",
       "      <td>0</td>\n",
       "      <td>87</td>\n",
       "      <td>0.391</td>\n",
       "      <td>0.609</td>\n",
       "      <td>0.192</td>\n",
       "      <td>18</td>\n",
       "      <td>47</td>\n",
       "      <td>16</td>\n",
       "      <td>1</td>\n",
       "    </tr>\n",
       "    <tr>\n",
       "      <th>4</th>\n",
       "      <td>1</td>\n",
       "      <td>21800001</td>\n",
       "      <td>1610612755</td>\n",
       "      <td>21</td>\n",
       "      <td>21</td>\n",
       "      <td>24</td>\n",
       "      <td>21</td>\n",
       "      <td>0</td>\n",
       "      <td>0</td>\n",
       "      <td>0</td>\n",
       "      <td>0</td>\n",
       "      <td>87</td>\n",
       "      <td>0.391</td>\n",
       "      <td>0.609</td>\n",
       "      <td>0.192</td>\n",
       "      <td>18</td>\n",
       "      <td>47</td>\n",
       "      <td>16</td>\n",
       "      <td>1</td>\n",
       "    </tr>\n",
       "  </tbody>\n",
       "</table>\n",
       "</div>"
      ],
      "text/plain": [
       "   GAME_SEQUENCE   GAME_ID     TEAM_ID  PTS_QTR1  PTS_QTR2  PTS_QTR3  \\\n",
       "0              1  21800001  1610612755        21        21        24   \n",
       "1              1  21800001  1610612755        21        21        24   \n",
       "2              1  21800001  1610612755        21        21        24   \n",
       "3              1  21800001  1610612755        21        21        24   \n",
       "4              1  21800001  1610612755        21        21        24   \n",
       "\n",
       "   PTS_QTR4  PTS_OT1  PTS_OT2  PTS_OT3  PTS_OT4  PTS  FG_PCT  FT_PCT  FG3_PCT  \\\n",
       "0        21        0        0        0        0   87   0.391   0.609    0.192   \n",
       "1        21        0        0        0        0   87   0.391   0.609    0.192   \n",
       "2        21        0        0        0        0   87   0.391   0.609    0.192   \n",
       "3        21        0        0        0        0   87   0.391   0.609    0.192   \n",
       "4        21        0        0        0        0   87   0.391   0.609    0.192   \n",
       "\n",
       "   AST  REB  TOV  Playoffs  \n",
       "0   18   47   16         1  \n",
       "1   18   47   16         1  \n",
       "2   18   47   16         1  \n",
       "3   18   47   16         1  \n",
       "4   18   47   16         1  "
      ]
     },
     "execution_count": 2,
     "metadata": {},
     "output_type": "execute_result"
    }
   ],
   "source": [
    "df = pd.read_csv(\"./Resources/merged19_update.csv\")\n",
    "# Drop the null columns where all values are null\n",
    "#df = df.dropna(axis='columns', how='all')\n",
    "# Drop the null rows\n",
    "#df = df.dropna()\n",
    "df.replace(np.nan, 0)\n",
    "df.head()"
   ]
  },
  {
   "cell_type": "markdown",
   "metadata": {},
   "source": [
    "# Create a Train Test Split\n",
    "\n",
    "Use `Playoffs` for the y values"
   ]
  },
  {
   "cell_type": "code",
   "execution_count": 3,
   "metadata": {
    "scrolled": true
   },
   "outputs": [
    {
     "data": {
      "text/html": [
       "<div>\n",
       "<style scoped>\n",
       "    .dataframe tbody tr th:only-of-type {\n",
       "        vertical-align: middle;\n",
       "    }\n",
       "\n",
       "    .dataframe tbody tr th {\n",
       "        vertical-align: top;\n",
       "    }\n",
       "\n",
       "    .dataframe thead th {\n",
       "        text-align: right;\n",
       "    }\n",
       "</style>\n",
       "<table border=\"1\" class=\"dataframe\">\n",
       "  <thead>\n",
       "    <tr style=\"text-align: right;\">\n",
       "      <th></th>\n",
       "      <th>GAME_SEQUENCE</th>\n",
       "      <th>GAME_ID</th>\n",
       "      <th>TEAM_ID</th>\n",
       "      <th>PTS_QTR1</th>\n",
       "      <th>PTS_QTR2</th>\n",
       "      <th>PTS_QTR3</th>\n",
       "      <th>PTS_QTR4</th>\n",
       "      <th>PTS_OT1</th>\n",
       "      <th>PTS_OT2</th>\n",
       "      <th>PTS_OT3</th>\n",
       "      <th>PTS_OT4</th>\n",
       "      <th>PTS</th>\n",
       "      <th>FG_PCT</th>\n",
       "      <th>FT_PCT</th>\n",
       "      <th>FG3_PCT</th>\n",
       "      <th>AST</th>\n",
       "      <th>REB</th>\n",
       "      <th>TOV</th>\n",
       "    </tr>\n",
       "  </thead>\n",
       "  <tbody>\n",
       "    <tr>\n",
       "      <th>0</th>\n",
       "      <td>1</td>\n",
       "      <td>21800001</td>\n",
       "      <td>1610612755</td>\n",
       "      <td>21</td>\n",
       "      <td>21</td>\n",
       "      <td>24</td>\n",
       "      <td>21</td>\n",
       "      <td>0</td>\n",
       "      <td>0</td>\n",
       "      <td>0</td>\n",
       "      <td>0</td>\n",
       "      <td>87</td>\n",
       "      <td>0.391</td>\n",
       "      <td>0.609</td>\n",
       "      <td>0.192</td>\n",
       "      <td>18</td>\n",
       "      <td>47</td>\n",
       "      <td>16</td>\n",
       "    </tr>\n",
       "    <tr>\n",
       "      <th>1</th>\n",
       "      <td>1</td>\n",
       "      <td>21800001</td>\n",
       "      <td>1610612755</td>\n",
       "      <td>21</td>\n",
       "      <td>21</td>\n",
       "      <td>24</td>\n",
       "      <td>21</td>\n",
       "      <td>0</td>\n",
       "      <td>0</td>\n",
       "      <td>0</td>\n",
       "      <td>0</td>\n",
       "      <td>87</td>\n",
       "      <td>0.391</td>\n",
       "      <td>0.609</td>\n",
       "      <td>0.192</td>\n",
       "      <td>18</td>\n",
       "      <td>47</td>\n",
       "      <td>16</td>\n",
       "    </tr>\n",
       "    <tr>\n",
       "      <th>2</th>\n",
       "      <td>1</td>\n",
       "      <td>21800001</td>\n",
       "      <td>1610612755</td>\n",
       "      <td>21</td>\n",
       "      <td>21</td>\n",
       "      <td>24</td>\n",
       "      <td>21</td>\n",
       "      <td>0</td>\n",
       "      <td>0</td>\n",
       "      <td>0</td>\n",
       "      <td>0</td>\n",
       "      <td>87</td>\n",
       "      <td>0.391</td>\n",
       "      <td>0.609</td>\n",
       "      <td>0.192</td>\n",
       "      <td>18</td>\n",
       "      <td>47</td>\n",
       "      <td>16</td>\n",
       "    </tr>\n",
       "    <tr>\n",
       "      <th>3</th>\n",
       "      <td>1</td>\n",
       "      <td>21800001</td>\n",
       "      <td>1610612755</td>\n",
       "      <td>21</td>\n",
       "      <td>21</td>\n",
       "      <td>24</td>\n",
       "      <td>21</td>\n",
       "      <td>0</td>\n",
       "      <td>0</td>\n",
       "      <td>0</td>\n",
       "      <td>0</td>\n",
       "      <td>87</td>\n",
       "      <td>0.391</td>\n",
       "      <td>0.609</td>\n",
       "      <td>0.192</td>\n",
       "      <td>18</td>\n",
       "      <td>47</td>\n",
       "      <td>16</td>\n",
       "    </tr>\n",
       "    <tr>\n",
       "      <th>4</th>\n",
       "      <td>1</td>\n",
       "      <td>21800001</td>\n",
       "      <td>1610612755</td>\n",
       "      <td>21</td>\n",
       "      <td>21</td>\n",
       "      <td>24</td>\n",
       "      <td>21</td>\n",
       "      <td>0</td>\n",
       "      <td>0</td>\n",
       "      <td>0</td>\n",
       "      <td>0</td>\n",
       "      <td>87</td>\n",
       "      <td>0.391</td>\n",
       "      <td>0.609</td>\n",
       "      <td>0.192</td>\n",
       "      <td>18</td>\n",
       "      <td>47</td>\n",
       "      <td>16</td>\n",
       "    </tr>\n",
       "    <tr>\n",
       "      <th>...</th>\n",
       "      <td>...</td>\n",
       "      <td>...</td>\n",
       "      <td>...</td>\n",
       "      <td>...</td>\n",
       "      <td>...</td>\n",
       "      <td>...</td>\n",
       "      <td>...</td>\n",
       "      <td>...</td>\n",
       "      <td>...</td>\n",
       "      <td>...</td>\n",
       "      <td>...</td>\n",
       "      <td>...</td>\n",
       "      <td>...</td>\n",
       "      <td>...</td>\n",
       "      <td>...</td>\n",
       "      <td>...</td>\n",
       "      <td>...</td>\n",
       "      <td>...</td>\n",
       "    </tr>\n",
       "    <tr>\n",
       "      <th>14591</th>\n",
       "      <td>11</td>\n",
       "      <td>21801230</td>\n",
       "      <td>1610612757</td>\n",
       "      <td>30</td>\n",
       "      <td>32</td>\n",
       "      <td>36</td>\n",
       "      <td>38</td>\n",
       "      <td>0</td>\n",
       "      <td>0</td>\n",
       "      <td>0</td>\n",
       "      <td>0</td>\n",
       "      <td>136</td>\n",
       "      <td>0.582</td>\n",
       "      <td>0.727</td>\n",
       "      <td>0.583</td>\n",
       "      <td>19</td>\n",
       "      <td>44</td>\n",
       "      <td>12</td>\n",
       "    </tr>\n",
       "    <tr>\n",
       "      <th>14592</th>\n",
       "      <td>11</td>\n",
       "      <td>21801230</td>\n",
       "      <td>1610612757</td>\n",
       "      <td>30</td>\n",
       "      <td>32</td>\n",
       "      <td>36</td>\n",
       "      <td>38</td>\n",
       "      <td>0</td>\n",
       "      <td>0</td>\n",
       "      <td>0</td>\n",
       "      <td>0</td>\n",
       "      <td>136</td>\n",
       "      <td>0.582</td>\n",
       "      <td>0.727</td>\n",
       "      <td>0.583</td>\n",
       "      <td>19</td>\n",
       "      <td>44</td>\n",
       "      <td>12</td>\n",
       "    </tr>\n",
       "    <tr>\n",
       "      <th>14593</th>\n",
       "      <td>11</td>\n",
       "      <td>21801230</td>\n",
       "      <td>1610612757</td>\n",
       "      <td>30</td>\n",
       "      <td>32</td>\n",
       "      <td>36</td>\n",
       "      <td>38</td>\n",
       "      <td>0</td>\n",
       "      <td>0</td>\n",
       "      <td>0</td>\n",
       "      <td>0</td>\n",
       "      <td>136</td>\n",
       "      <td>0.582</td>\n",
       "      <td>0.727</td>\n",
       "      <td>0.583</td>\n",
       "      <td>19</td>\n",
       "      <td>44</td>\n",
       "      <td>12</td>\n",
       "    </tr>\n",
       "    <tr>\n",
       "      <th>14594</th>\n",
       "      <td>11</td>\n",
       "      <td>21801230</td>\n",
       "      <td>1610612757</td>\n",
       "      <td>30</td>\n",
       "      <td>32</td>\n",
       "      <td>36</td>\n",
       "      <td>38</td>\n",
       "      <td>0</td>\n",
       "      <td>0</td>\n",
       "      <td>0</td>\n",
       "      <td>0</td>\n",
       "      <td>136</td>\n",
       "      <td>0.582</td>\n",
       "      <td>0.727</td>\n",
       "      <td>0.583</td>\n",
       "      <td>19</td>\n",
       "      <td>44</td>\n",
       "      <td>12</td>\n",
       "    </tr>\n",
       "    <tr>\n",
       "      <th>14595</th>\n",
       "      <td>11</td>\n",
       "      <td>21801230</td>\n",
       "      <td>1610612757</td>\n",
       "      <td>30</td>\n",
       "      <td>32</td>\n",
       "      <td>36</td>\n",
       "      <td>38</td>\n",
       "      <td>0</td>\n",
       "      <td>0</td>\n",
       "      <td>0</td>\n",
       "      <td>0</td>\n",
       "      <td>136</td>\n",
       "      <td>0.582</td>\n",
       "      <td>0.727</td>\n",
       "      <td>0.583</td>\n",
       "      <td>19</td>\n",
       "      <td>44</td>\n",
       "      <td>12</td>\n",
       "    </tr>\n",
       "  </tbody>\n",
       "</table>\n",
       "<p>14596 rows × 18 columns</p>\n",
       "</div>"
      ],
      "text/plain": [
       "       GAME_SEQUENCE   GAME_ID     TEAM_ID  PTS_QTR1  PTS_QTR2  PTS_QTR3  \\\n",
       "0                  1  21800001  1610612755        21        21        24   \n",
       "1                  1  21800001  1610612755        21        21        24   \n",
       "2                  1  21800001  1610612755        21        21        24   \n",
       "3                  1  21800001  1610612755        21        21        24   \n",
       "4                  1  21800001  1610612755        21        21        24   \n",
       "...              ...       ...         ...       ...       ...       ...   \n",
       "14591             11  21801230  1610612757        30        32        36   \n",
       "14592             11  21801230  1610612757        30        32        36   \n",
       "14593             11  21801230  1610612757        30        32        36   \n",
       "14594             11  21801230  1610612757        30        32        36   \n",
       "14595             11  21801230  1610612757        30        32        36   \n",
       "\n",
       "       PTS_QTR4  PTS_OT1  PTS_OT2  PTS_OT3  PTS_OT4  PTS  FG_PCT  FT_PCT  \\\n",
       "0            21        0        0        0        0   87   0.391   0.609   \n",
       "1            21        0        0        0        0   87   0.391   0.609   \n",
       "2            21        0        0        0        0   87   0.391   0.609   \n",
       "3            21        0        0        0        0   87   0.391   0.609   \n",
       "4            21        0        0        0        0   87   0.391   0.609   \n",
       "...         ...      ...      ...      ...      ...  ...     ...     ...   \n",
       "14591        38        0        0        0        0  136   0.582   0.727   \n",
       "14592        38        0        0        0        0  136   0.582   0.727   \n",
       "14593        38        0        0        0        0  136   0.582   0.727   \n",
       "14594        38        0        0        0        0  136   0.582   0.727   \n",
       "14595        38        0        0        0        0  136   0.582   0.727   \n",
       "\n",
       "       FG3_PCT  AST  REB  TOV  \n",
       "0        0.192   18   47   16  \n",
       "1        0.192   18   47   16  \n",
       "2        0.192   18   47   16  \n",
       "3        0.192   18   47   16  \n",
       "4        0.192   18   47   16  \n",
       "...        ...  ...  ...  ...  \n",
       "14591    0.583   19   44   12  \n",
       "14592    0.583   19   44   12  \n",
       "14593    0.583   19   44   12  \n",
       "14594    0.583   19   44   12  \n",
       "14595    0.583   19   44   12  \n",
       "\n",
       "[14596 rows x 18 columns]"
      ]
     },
     "execution_count": 3,
     "metadata": {},
     "output_type": "execute_result"
    }
   ],
   "source": [
    "y=df[\"Playoffs\"]\n",
    "X=df.drop(columns=[\"Playoffs\"])\n",
    "X"
   ]
  },
  {
   "cell_type": "code",
   "execution_count": 4,
   "metadata": {},
   "outputs": [],
   "source": [
    "from sklearn.model_selection import train_test_split\n",
    "\n",
    "X_train, X_test, y_train, y_test = train_test_split(X, y, random_state=1)"
   ]
  },
  {
   "cell_type": "code",
   "execution_count": 5,
   "metadata": {},
   "outputs": [
    {
     "data": {
      "text/plain": [
       "((10947, 18), (3649, 18))"
      ]
     },
     "execution_count": 5,
     "metadata": {},
     "output_type": "execute_result"
    }
   ],
   "source": [
    "X_train.shape, X_test.shape"
   ]
  },
  {
   "cell_type": "markdown",
   "metadata": {},
   "source": [
    "# Pre-processing\n",
    "\n",
    "Scale the data using the MinMaxScaler and perform some feature selection"
   ]
  },
  {
   "cell_type": "code",
   "execution_count": 6,
   "metadata": {},
   "outputs": [],
   "source": [
    "# Scale your data\n",
    "from sklearn.preprocessing import MinMaxScaler\n",
    "X_scaler = MinMaxScaler().fit(X_train)\n",
    "X_train_scaled = X_scaler.transform(X_train)\n",
    "X_test_scaled = X_scaler.transform(X_test)"
   ]
  },
  {
   "cell_type": "markdown",
   "metadata": {},
   "source": [
    "# Train the Model\n",
    "\n"
   ]
  },
  {
   "cell_type": "code",
   "execution_count": 7,
   "metadata": {},
   "outputs": [
    {
     "data": {
      "text/plain": [
       "LogisticRegression()"
      ]
     },
     "execution_count": 7,
     "metadata": {},
     "output_type": "execute_result"
    }
   ],
   "source": [
    "from sklearn.linear_model import LogisticRegression\n",
    "classifier = LogisticRegression()\n",
    "classifier"
   ]
  },
  {
   "cell_type": "code",
   "execution_count": 8,
   "metadata": {
    "scrolled": false
   },
   "outputs": [
    {
     "data": {
      "text/plain": [
       "LogisticRegression()"
      ]
     },
     "execution_count": 8,
     "metadata": {},
     "output_type": "execute_result"
    }
   ],
   "source": [
    "classifier.fit(X_train_scaled, y_train)"
   ]
  },
  {
   "cell_type": "code",
   "execution_count": 9,
   "metadata": {},
   "outputs": [
    {
     "data": {
      "text/plain": [
       "array([ 0.21777204, -0.2460886 ,  0.81741708,  0.59883364, -0.1308447 ,\n",
       "        0.53791544,  0.11692328, -0.27628333, -0.21622449, -0.75428447,\n",
       "       -0.82793336,  0.14566526,  1.25468339,  1.68509892, -0.06086002,\n",
       "        0.90164785,  2.34392694, -0.90274625])"
      ]
     },
     "execution_count": 9,
     "metadata": {},
     "output_type": "execute_result"
    }
   ],
   "source": [
    "importance = classifier.coef_[0]\n",
    "importance"
   ]
  },
  {
   "cell_type": "code",
   "execution_count": 10,
   "metadata": {},
   "outputs": [
    {
     "name": "stdout",
     "output_type": "stream",
     "text": [
      "Feature: 0, Score: 0.21777\n",
      "Feature: 1, Score: -0.24609\n",
      "Feature: 2, Score: 0.81742\n",
      "Feature: 3, Score: 0.59883\n",
      "Feature: 4, Score: -0.13084\n",
      "Feature: 5, Score: 0.53792\n",
      "Feature: 6, Score: 0.11692\n",
      "Feature: 7, Score: -0.27628\n",
      "Feature: 8, Score: -0.21622\n",
      "Feature: 9, Score: -0.75428\n",
      "Feature: 10, Score: -0.82793\n",
      "Feature: 11, Score: 0.14567\n",
      "Feature: 12, Score: 1.25468\n",
      "Feature: 13, Score: 1.68510\n",
      "Feature: 14, Score: -0.06086\n",
      "Feature: 15, Score: 0.90165\n",
      "Feature: 16, Score: 2.34393\n",
      "Feature: 17, Score: -0.90275\n"
     ]
    }
   ],
   "source": [
    "for i,v in enumerate(importance):\n",
    "\tprint('Feature: %0d, Score: %.5f' % (i,v))"
   ]
  },
  {
   "cell_type": "code",
   "execution_count": 11,
   "metadata": {},
   "outputs": [
    {
     "data": {
      "image/png": "[encoded data removed]",
      "text/plain": [
       "<Figure size 432x288 with 1 Axes>"
      ]
     },
     "metadata": {
      "needs_background": "light"
     },
     "output_type": "display_data"
    }
   ],
   "source": [
    "pyplot.bar([x for x in range(len(importance))], importance)\n",
    "pyplot.show()"
   ]
  },
  {
   "cell_type": "code",
   "execution_count": 12,
   "metadata": {
    "scrolled": true
   },
   "outputs": [
    {
     "name": "stdout",
     "output_type": "stream",
     "text": [
      "Training Data Score: 0.9200694254133552\n",
      "Testing Data Score: 0.9251849821869005\n"
     ]
    }
   ],
   "source": [
    "print(f\"Training Data Score: {classifier.score(X_train_scaled, y_train)}\")\n",
    "print(f\"Testing Data Score: {classifier.score(X_test_scaled, y_test)}\")"
   ]
  }
 ],
 "metadata": {
  "kernel_info": {
   "name": "dev"
  },
  "kernelspec": {
   "display_name": "Python 3",
   "language": "python",
   "name": "python3"
  },
  "language_info": {
   "codemirror_mode": {
    "name": "ipython",
    "version": 3
   },
   "file_extension": ".py",
   "mimetype": "text/x-python",
   "name": "python",
   "nbconvert_exporter": "python",
   "pygments_lexer": "ipython3",
   "version": "3.8.3"
  },
  "nteract": {
   "version": "0.12.3"
  }
 },
 "nbformat": 4,
 "nbformat_minor": 2
}
