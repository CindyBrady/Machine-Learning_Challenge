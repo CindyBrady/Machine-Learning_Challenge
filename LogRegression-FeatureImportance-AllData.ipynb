{
 "cells": [
  {
   "cell_type": "code",
   "execution_count": 1,
   "metadata": {
    "scrolled": false
   },
   "outputs": [],
   "source": [
    "# Update sklearn to prevent version mismatches\n",
    "#!pip install sklearn --upgrade"
   ]
  },
  {
   "cell_type": "code",
   "execution_count": 2,
   "metadata": {},
   "outputs": [],
   "source": [
    "# install joblib. This will be used to save your model. \n",
    "# Restart your kernel after installing \n",
    "#!pip install joblib"
   ]
  },
  {
   "cell_type": "code",
   "execution_count": 3,
   "metadata": {},
   "outputs": [],
   "source": [
    "import pandas as pd\n",
    "import numpy as np\n",
    "from matplotlib import pyplot"
   ]
  },
  {
   "cell_type": "markdown",
   "metadata": {},
   "source": [
    "# Read the CSV and Perform Basic Data Cleaning"
   ]
  },
  {
   "cell_type": "code",
   "execution_count": 4,
   "metadata": {},
   "outputs": [
    {
     "data": {
      "text/html": [
       "<div>\n",
       "<style scoped>\n",
       "    .dataframe tbody tr th:only-of-type {\n",
       "        vertical-align: middle;\n",
       "    }\n",
       "\n",
       "    .dataframe tbody tr th {\n",
       "        vertical-align: top;\n",
       "    }\n",
       "\n",
       "    .dataframe thead th {\n",
       "        text-align: right;\n",
       "    }\n",
       "</style>\n",
       "<table border=\"1\" class=\"dataframe\">\n",
       "  <thead>\n",
       "    <tr style=\"text-align: right;\">\n",
       "      <th></th>\n",
       "      <th>GAME_SEQUENCE</th>\n",
       "      <th>GAME_ID</th>\n",
       "      <th>TEAM_ID</th>\n",
       "      <th>PTS_QTR1</th>\n",
       "      <th>PTS_QTR2</th>\n",
       "      <th>PTS_QTR3</th>\n",
       "      <th>PTS_QTR4</th>\n",
       "      <th>PTS_OT1</th>\n",
       "      <th>PTS_OT2</th>\n",
       "      <th>PTS_OT3</th>\n",
       "      <th>PTS_OT4</th>\n",
       "      <th>PTS</th>\n",
       "      <th>FG_PCT</th>\n",
       "      <th>FT_PCT</th>\n",
       "      <th>FG3_PCT</th>\n",
       "      <th>AST</th>\n",
       "      <th>REB</th>\n",
       "      <th>TOV</th>\n",
       "      <th>Playoffs</th>\n",
       "    </tr>\n",
       "  </thead>\n",
       "  <tbody>\n",
       "    <tr>\n",
       "      <th>0</th>\n",
       "      <td>1</td>\n",
       "      <td>21200001</td>\n",
       "      <td>1610612764</td>\n",
       "      <td>24</td>\n",
       "      <td>15</td>\n",
       "      <td>23</td>\n",
       "      <td>22</td>\n",
       "      <td>0</td>\n",
       "      <td>0</td>\n",
       "      <td>0</td>\n",
       "      <td>0</td>\n",
       "      <td>84</td>\n",
       "      <td>0.356</td>\n",
       "      <td>0.600</td>\n",
       "      <td>0.250</td>\n",
       "      <td>26</td>\n",
       "      <td>39</td>\n",
       "      <td>12</td>\n",
       "      <td>0</td>\n",
       "    </tr>\n",
       "    <tr>\n",
       "      <th>1</th>\n",
       "      <td>1</td>\n",
       "      <td>21200027</td>\n",
       "      <td>1610612764</td>\n",
       "      <td>12</td>\n",
       "      <td>30</td>\n",
       "      <td>25</td>\n",
       "      <td>19</td>\n",
       "      <td>0</td>\n",
       "      <td>0</td>\n",
       "      <td>0</td>\n",
       "      <td>0</td>\n",
       "      <td>86</td>\n",
       "      <td>0.436</td>\n",
       "      <td>0.706</td>\n",
       "      <td>0.300</td>\n",
       "      <td>20</td>\n",
       "      <td>46</td>\n",
       "      <td>15</td>\n",
       "      <td>0</td>\n",
       "    </tr>\n",
       "    <tr>\n",
       "      <th>2</th>\n",
       "      <td>2</td>\n",
       "      <td>21200054</td>\n",
       "      <td>1610612764</td>\n",
       "      <td>16</td>\n",
       "      <td>26</td>\n",
       "      <td>16</td>\n",
       "      <td>30</td>\n",
       "      <td>6</td>\n",
       "      <td>0</td>\n",
       "      <td>0</td>\n",
       "      <td>0</td>\n",
       "      <td>94</td>\n",
       "      <td>0.411</td>\n",
       "      <td>0.857</td>\n",
       "      <td>0.345</td>\n",
       "      <td>25</td>\n",
       "      <td>44</td>\n",
       "      <td>19</td>\n",
       "      <td>0</td>\n",
       "    </tr>\n",
       "    <tr>\n",
       "      <th>3</th>\n",
       "      <td>1</td>\n",
       "      <td>21200068</td>\n",
       "      <td>1610612764</td>\n",
       "      <td>28</td>\n",
       "      <td>19</td>\n",
       "      <td>25</td>\n",
       "      <td>19</td>\n",
       "      <td>0</td>\n",
       "      <td>0</td>\n",
       "      <td>0</td>\n",
       "      <td>0</td>\n",
       "      <td>91</td>\n",
       "      <td>0.436</td>\n",
       "      <td>0.864</td>\n",
       "      <td>0.222</td>\n",
       "      <td>23</td>\n",
       "      <td>36</td>\n",
       "      <td>20</td>\n",
       "      <td>0</td>\n",
       "    </tr>\n",
       "    <tr>\n",
       "      <th>4</th>\n",
       "      <td>2</td>\n",
       "      <td>21200082</td>\n",
       "      <td>1610612764</td>\n",
       "      <td>22</td>\n",
       "      <td>27</td>\n",
       "      <td>23</td>\n",
       "      <td>13</td>\n",
       "      <td>0</td>\n",
       "      <td>0</td>\n",
       "      <td>0</td>\n",
       "      <td>0</td>\n",
       "      <td>85</td>\n",
       "      <td>0.443</td>\n",
       "      <td>0.714</td>\n",
       "      <td>0.417</td>\n",
       "      <td>26</td>\n",
       "      <td>40</td>\n",
       "      <td>12</td>\n",
       "      <td>0</td>\n",
       "    </tr>\n",
       "    <tr>\n",
       "      <th>...</th>\n",
       "      <td>...</td>\n",
       "      <td>...</td>\n",
       "      <td>...</td>\n",
       "      <td>...</td>\n",
       "      <td>...</td>\n",
       "      <td>...</td>\n",
       "      <td>...</td>\n",
       "      <td>...</td>\n",
       "      <td>...</td>\n",
       "      <td>...</td>\n",
       "      <td>...</td>\n",
       "      <td>...</td>\n",
       "      <td>...</td>\n",
       "      <td>...</td>\n",
       "      <td>...</td>\n",
       "      <td>...</td>\n",
       "      <td>...</td>\n",
       "      <td>...</td>\n",
       "      <td>...</td>\n",
       "    </tr>\n",
       "    <tr>\n",
       "      <th>17221</th>\n",
       "      <td>11</td>\n",
       "      <td>21801175</td>\n",
       "      <td>1610612757</td>\n",
       "      <td>28</td>\n",
       "      <td>34</td>\n",
       "      <td>24</td>\n",
       "      <td>30</td>\n",
       "      <td>0</td>\n",
       "      <td>0</td>\n",
       "      <td>0</td>\n",
       "      <td>0</td>\n",
       "      <td>116</td>\n",
       "      <td>0.511</td>\n",
       "      <td>0.625</td>\n",
       "      <td>0.323</td>\n",
       "      <td>28</td>\n",
       "      <td>54</td>\n",
       "      <td>13</td>\n",
       "      <td>1</td>\n",
       "    </tr>\n",
       "    <tr>\n",
       "      <th>17222</th>\n",
       "      <td>11</td>\n",
       "      <td>21801190</td>\n",
       "      <td>1610612757</td>\n",
       "      <td>29</td>\n",
       "      <td>21</td>\n",
       "      <td>37</td>\n",
       "      <td>23</td>\n",
       "      <td>0</td>\n",
       "      <td>0</td>\n",
       "      <td>0</td>\n",
       "      <td>0</td>\n",
       "      <td>110</td>\n",
       "      <td>0.488</td>\n",
       "      <td>0.800</td>\n",
       "      <td>0.345</td>\n",
       "      <td>24</td>\n",
       "      <td>40</td>\n",
       "      <td>14</td>\n",
       "      <td>1</td>\n",
       "    </tr>\n",
       "    <tr>\n",
       "      <th>17223</th>\n",
       "      <td>12</td>\n",
       "      <td>21801206</td>\n",
       "      <td>1610612757</td>\n",
       "      <td>29</td>\n",
       "      <td>31</td>\n",
       "      <td>26</td>\n",
       "      <td>29</td>\n",
       "      <td>0</td>\n",
       "      <td>0</td>\n",
       "      <td>0</td>\n",
       "      <td>0</td>\n",
       "      <td>115</td>\n",
       "      <td>0.461</td>\n",
       "      <td>0.828</td>\n",
       "      <td>0.321</td>\n",
       "      <td>22</td>\n",
       "      <td>58</td>\n",
       "      <td>16</td>\n",
       "      <td>1</td>\n",
       "    </tr>\n",
       "    <tr>\n",
       "      <th>17224</th>\n",
       "      <td>11</td>\n",
       "      <td>21801219</td>\n",
       "      <td>1610612757</td>\n",
       "      <td>26</td>\n",
       "      <td>27</td>\n",
       "      <td>20</td>\n",
       "      <td>31</td>\n",
       "      <td>0</td>\n",
       "      <td>0</td>\n",
       "      <td>0</td>\n",
       "      <td>0</td>\n",
       "      <td>104</td>\n",
       "      <td>0.411</td>\n",
       "      <td>0.864</td>\n",
       "      <td>0.297</td>\n",
       "      <td>18</td>\n",
       "      <td>45</td>\n",
       "      <td>12</td>\n",
       "      <td>1</td>\n",
       "    </tr>\n",
       "    <tr>\n",
       "      <th>17225</th>\n",
       "      <td>11</td>\n",
       "      <td>21801230</td>\n",
       "      <td>1610612757</td>\n",
       "      <td>30</td>\n",
       "      <td>32</td>\n",
       "      <td>36</td>\n",
       "      <td>38</td>\n",
       "      <td>0</td>\n",
       "      <td>0</td>\n",
       "      <td>0</td>\n",
       "      <td>0</td>\n",
       "      <td>136</td>\n",
       "      <td>0.582</td>\n",
       "      <td>0.727</td>\n",
       "      <td>0.583</td>\n",
       "      <td>19</td>\n",
       "      <td>44</td>\n",
       "      <td>12</td>\n",
       "      <td>1</td>\n",
       "    </tr>\n",
       "  </tbody>\n",
       "</table>\n",
       "<p>17226 rows × 19 columns</p>\n",
       "</div>"
      ],
      "text/plain": [
       "       GAME_SEQUENCE   GAME_ID     TEAM_ID  PTS_QTR1  PTS_QTR2  PTS_QTR3  \\\n",
       "0                  1  21200001  1610612764        24        15        23   \n",
       "1                  1  21200027  1610612764        12        30        25   \n",
       "2                  2  21200054  1610612764        16        26        16   \n",
       "3                  1  21200068  1610612764        28        19        25   \n",
       "4                  2  21200082  1610612764        22        27        23   \n",
       "...              ...       ...         ...       ...       ...       ...   \n",
       "17221             11  21801175  1610612757        28        34        24   \n",
       "17222             11  21801190  1610612757        29        21        37   \n",
       "17223             12  21801206  1610612757        29        31        26   \n",
       "17224             11  21801219  1610612757        26        27        20   \n",
       "17225             11  21801230  1610612757        30        32        36   \n",
       "\n",
       "       PTS_QTR4  PTS_OT1  PTS_OT2  PTS_OT3  PTS_OT4  PTS  FG_PCT  FT_PCT  \\\n",
       "0            22        0        0        0        0   84   0.356   0.600   \n",
       "1            19        0        0        0        0   86   0.436   0.706   \n",
       "2            30        6        0        0        0   94   0.411   0.857   \n",
       "3            19        0        0        0        0   91   0.436   0.864   \n",
       "4            13        0        0        0        0   85   0.443   0.714   \n",
       "...         ...      ...      ...      ...      ...  ...     ...     ...   \n",
       "17221        30        0        0        0        0  116   0.511   0.625   \n",
       "17222        23        0        0        0        0  110   0.488   0.800   \n",
       "17223        29        0        0        0        0  115   0.461   0.828   \n",
       "17224        31        0        0        0        0  104   0.411   0.864   \n",
       "17225        38        0        0        0        0  136   0.582   0.727   \n",
       "\n",
       "       FG3_PCT  AST  REB  TOV  Playoffs  \n",
       "0        0.250   26   39   12         0  \n",
       "1        0.300   20   46   15         0  \n",
       "2        0.345   25   44   19         0  \n",
       "3        0.222   23   36   20         0  \n",
       "4        0.417   26   40   12         0  \n",
       "...        ...  ...  ...  ...       ...  \n",
       "17221    0.323   28   54   13         1  \n",
       "17222    0.345   24   40   14         1  \n",
       "17223    0.321   22   58   16         1  \n",
       "17224    0.297   18   45   12         1  \n",
       "17225    0.583   19   44   12         1  \n",
       "\n",
       "[17226 rows x 19 columns]"
      ]
     },
     "execution_count": 4,
     "metadata": {},
     "output_type": "execute_result"
    }
   ],
   "source": [
    "df = pd.read_csv(\"newmergedfull_df.csv\")\n",
    "# Drop the null columns where all values are null\n",
    "#df = df.dropna(axis='columns', how='all')\n",
    "# Drop the null rows\n",
    "#df = df.dropna()\n",
    "df.replace(np.nan, 0)\n",
    "df"
   ]
  },
  {
   "cell_type": "code",
   "execution_count": 5,
   "metadata": {},
   "outputs": [],
   "source": [
    "# Create a Train Test Split\n",
    "\n",
    "#Use `Playoffs` for the y values\n",
    "\n",
    "y=df[\"Playoffs\"]\n",
    "X=df.drop(columns=[\"Playoffs\"])"
   ]
  },
  {
   "cell_type": "code",
   "execution_count": 6,
   "metadata": {},
   "outputs": [],
   "source": [
    "from sklearn.model_selection import train_test_split\n",
    "\n",
    "X_train, X_test, y_train, y_test = train_test_split(X, y, random_state=1)"
   ]
  },
  {
   "cell_type": "code",
   "execution_count": 7,
   "metadata": {},
   "outputs": [
    {
     "data": {
      "text/plain": [
       "((12919, 18), (4307, 18))"
      ]
     },
     "execution_count": 7,
     "metadata": {},
     "output_type": "execute_result"
    }
   ],
   "source": [
    "X_train.shape, X_test.shape"
   ]
  },
  {
   "cell_type": "markdown",
   "metadata": {},
   "source": [
    "# Pre-processing\n",
    "\n",
    "Scale the data using the MinMaxScaler and perform some feature selection"
   ]
  },
  {
   "cell_type": "code",
   "execution_count": 8,
   "metadata": {},
   "outputs": [],
   "source": [
    "# Scale your data\n",
    "from sklearn.preprocessing import MinMaxScaler\n",
    "X_scaler = MinMaxScaler().fit(X_train)\n",
    "X_train_scaled = X_scaler.transform(X_train)\n",
    "X_test_scaled = X_scaler.transform(X_test)"
   ]
  },
  {
   "cell_type": "markdown",
   "metadata": {},
   "source": [
    "# Train the Model\n",
    "\n"
   ]
  },
  {
   "cell_type": "code",
   "execution_count": 9,
   "metadata": {},
   "outputs": [
    {
     "data": {
      "text/plain": [
       "LogisticRegression()"
      ]
     },
     "execution_count": 9,
     "metadata": {},
     "output_type": "execute_result"
    }
   ],
   "source": [
    "from sklearn.linear_model import LogisticRegression\n",
    "classifier = LogisticRegression()\n",
    "classifier"
   ]
  },
  {
   "cell_type": "code",
   "execution_count": 10,
   "metadata": {
    "scrolled": false
   },
   "outputs": [
    {
     "data": {
      "text/plain": [
       "LogisticRegression()"
      ]
     },
     "execution_count": 10,
     "metadata": {},
     "output_type": "execute_result"
    }
   ],
   "source": [
    "classifier.fit(X_train_scaled, y_train)"
   ]
  },
  {
   "cell_type": "code",
   "execution_count": 11,
   "metadata": {},
   "outputs": [
    {
     "data": {
      "text/plain": [
       "array([-0.30532255,  1.1351078 , -2.63050551,  0.55333132,  0.20718765,\n",
       "        0.3388778 , -0.05746367,  0.16315221, -0.61746957,  0.31463164,\n",
       "       -0.15120744,  0.24446175,  2.28744912,  1.14347555,  0.16178866,\n",
       "        0.21372261,  1.52815286, -0.96609434])"
      ]
     },
     "execution_count": 11,
     "metadata": {},
     "output_type": "execute_result"
    }
   ],
   "source": [
    "importance = classifier.coef_[0]\n",
    "importance"
   ]
  },
  {
   "cell_type": "code",
   "execution_count": 12,
   "metadata": {},
   "outputs": [
    {
     "name": "stdout",
     "output_type": "stream",
     "text": [
      "Feature: 0, Score: -0.30532\n",
      "Feature: 1, Score: 1.13511\n",
      "Feature: 2, Score: -2.63051\n",
      "Feature: 3, Score: 0.55333\n",
      "Feature: 4, Score: 0.20719\n",
      "Feature: 5, Score: 0.33888\n",
      "Feature: 6, Score: -0.05746\n",
      "Feature: 7, Score: 0.16315\n",
      "Feature: 8, Score: -0.61747\n",
      "Feature: 9, Score: 0.31463\n",
      "Feature: 10, Score: -0.15121\n",
      "Feature: 11, Score: 0.24446\n",
      "Feature: 12, Score: 2.28745\n",
      "Feature: 13, Score: 1.14348\n",
      "Feature: 14, Score: 0.16179\n",
      "Feature: 15, Score: 0.21372\n",
      "Feature: 16, Score: 1.52815\n",
      "Feature: 17, Score: -0.96609\n"
     ]
    }
   ],
   "source": [
    "for i,v in enumerate(importance):\n",
    "\tprint('Feature: %0d, Score: %.5f' % (i,v))"
   ]
  },
  {
   "cell_type": "code",
   "execution_count": 13,
   "metadata": {},
   "outputs": [
    {
     "data": {
      "image/png": "[encoded data removed]",
      "text/plain": [
       "<Figure size 432x288 with 1 Axes>"
      ]
     },
     "metadata": {
      "needs_background": "light"
     },
     "output_type": "display_data"
    }
   ],
   "source": [
    "pyplot.bar([x for x in range(len(importance))], importance, color = 'tab:purple', alpha = 0.5, align = 'center')\n",
    "tick_locations = [x for x in range(len(importance))]\n",
    "pyplot.xticks(tick_locations, [\"Game Sequence\", \"Game ID\", \"Team ID\", \"Q1 Pts\", \"Q2 Pts\", \"Q3 Pts\", \n",
    "                            \"Q4 Pts\", \"Pts OT1\", \"Pts OT2\", \"Pts OT3\", \"Pts OT4\", \"Pts\", \"FGPct\", \"FTPct\",\"FG3Pct\", \"AST\", \"REB\", \"TOV\"],\n",
    "                              rotation = 'vertical')\n",
    "pyplot.title(\"Feature Importance Chart\")\n",
    "pyplot.xlabel(\"Feature\")\n",
    "pyplot.ylabel(\"Importance\")\n",
    "pyplot.show()"
   ]
  },
  {
   "cell_type": "code",
   "execution_count": 14,
   "metadata": {
    "scrolled": true
   },
   "outputs": [
    {
     "name": "stdout",
     "output_type": "stream",
     "text": [
      "Training Data Score: 0.61188946512888\n",
      "Testing Data Score: 0.6234037613187834\n"
     ]
    }
   ],
   "source": [
    "print(f\"Training Data Score: {classifier.score(X_train_scaled, y_train)}\")\n",
    "print(f\"Testing Data Score: {classifier.score(X_test_scaled, y_test)}\")"
   ]
  }
 ],
 "metadata": {
  "kernel_info": {
   "name": "dev"
  },
  "kernelspec": {
   "display_name": "Python 3",
   "language": "python",
   "name": "python3"
  },
  "language_info": {
   "codemirror_mode": {
    "name": "ipython",
    "version": 3
   },
   "file_extension": ".py",
   "mimetype": "text/x-python",
   "name": "python",
   "nbconvert_exporter": "python",
   "pygments_lexer": "ipython3",
   "version": "3.6.10"
  },
  "nteract": {
   "version": "0.12.3"
  }
 },
 "nbformat": 4,
 "nbformat_minor": 2
}
