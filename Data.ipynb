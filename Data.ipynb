{
 "cells": [
  {
   "cell_type": "code",
   "execution_count": 1,
   "metadata": {},
   "outputs": [],
   "source": [
    "import pandas as pd"
   ]
  },
  {
   "cell_type": "markdown",
   "metadata": {},
   "source": [
    "#  Merge txt Files"
   ]
  },
  {
   "cell_type": "code",
   "execution_count": 2,
   "metadata": {},
   "outputs": [],
   "source": [
    "df1 = pd.read_csv(\"Resources/2012-13/raw_scores.txt\")\n",
    "df2 = pd.read_csv(\"Resources/2013-14/raw_scores.txt\")\n",
    "df3 = pd.read_csv(\"Resources/2014-15/raw_scores.txt\")\n",
    "df4 = pd.read_csv(\"Resources/2015-16/raw_scores.txt\")\n",
    "df5 = pd.read_csv(\"Resources/2016-17/raw_scores.txt\")\n",
    "df6 = pd.read_csv(\"Resources/2017-18/raw_scores.txt\")\n",
    "df7 = pd.read_csv(\"Resources/2018-19/raw_scores.txt\")\n"
   ]
  },
  {
   "cell_type": "code",
   "execution_count": 3,
   "metadata": {},
   "outputs": [],
   "source": [
    "# Combine csv files into dataframe\n",
    "frames = [df1, df2, df3, df4, df5, df6, df7]\n",
    "df = pd.concat(frames).drop_duplicates()"
   ]
  },
  {
   "cell_type": "code",
   "execution_count": 4,
   "metadata": {},
   "outputs": [],
   "source": [
    "# Export dataframe to csv\n",
    "df.to_csv(\"Resources/raw_scores_combined.csv\", index=False)"
   ]
  },
  {
   "cell_type": "code",
   "execution_count": null,
   "metadata": {},
   "outputs": [],
   "source": []
  }
 ],
 "metadata": {
  "kernelspec": {
   "display_name": "Python 3",
   "language": "python",
   "name": "python3"
  },
  "language_info": {
   "codemirror_mode": {
    "name": "ipython",
    "version": 3
   },
   "file_extension": ".py",
   "mimetype": "text/x-python",
   "name": "python",
   "nbconvert_exporter": "python",
   "pygments_lexer": "ipython3",
   "version": "3.6.10"
  }
 },
 "nbformat": 4,
 "nbformat_minor": 4
}
