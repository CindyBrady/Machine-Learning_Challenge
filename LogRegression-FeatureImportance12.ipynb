{
 "cells": [
  {
   "cell_type": "code",
   "execution_count": null,
   "metadata": {
    "scrolled": false
   },
   "outputs": [],
   "source": [
    "# Update sklearn to prevent version mismatches\n",
    "!pip install sklearn --upgrade"
   ]
  },
  {
   "cell_type": "code",
   "execution_count": 2,
   "metadata": {},
   "outputs": [
    {
     "name": "stdout",
     "output_type": "stream",
     "text": [
      "Requirement already satisfied: joblib in c:\\users\\cindy\\anaconda3\\lib\\site-packages (1.0.0)\n"
     ]
    }
   ],
   "source": [
    "# install joblib. This will be used to save your model. \n",
    "# Restart your kernel after installing \n",
    "!pip install joblib"
   ]
  },
  {
   "cell_type": "code",
   "execution_count": 13,
   "metadata": {},
   "outputs": [],
   "source": [
    "import pandas as pd\n",
    "import numpy as np\n",
    "from matplotlib import pyplot"
   ]
  },
  {
   "cell_type": "markdown",
   "metadata": {},
   "source": [
    "# Read the CSV and Perform Basic Data Cleaning"
   ]
  },
  {
   "cell_type": "code",
   "execution_count": 2,
   "metadata": {},
   "outputs": [
    {
     "data": {
      "text/html": [
       "<div>\n",
       "<style scoped>\n",
       "    .dataframe tbody tr th:only-of-type {\n",
       "        vertical-align: middle;\n",
       "    }\n",
       "\n",
       "    .dataframe tbody tr th {\n",
       "        vertical-align: top;\n",
       "    }\n",
       "\n",
       "    .dataframe thead th {\n",
       "        text-align: right;\n",
       "    }\n",
       "</style>\n",
       "<table border=\"1\" class=\"dataframe\">\n",
       "  <thead>\n",
       "    <tr style=\"text-align: right;\">\n",
       "      <th></th>\n",
       "      <th>GAME_SEQUENCE</th>\n",
       "      <th>GAME_ID</th>\n",
       "      <th>TEAM_ID</th>\n",
       "      <th>PTS_QTR1</th>\n",
       "      <th>PTS_QTR2</th>\n",
       "      <th>PTS_QTR3</th>\n",
       "      <th>PTS_QTR4</th>\n",
       "      <th>PTS_OT1</th>\n",
       "      <th>PTS_OT2</th>\n",
       "      <th>PTS_OT3</th>\n",
       "      <th>PTS_OT4</th>\n",
       "      <th>PTS</th>\n",
       "      <th>FG_PCT</th>\n",
       "      <th>FT_PCT</th>\n",
       "      <th>FG3_PCT</th>\n",
       "      <th>AST</th>\n",
       "      <th>REB</th>\n",
       "      <th>TOV</th>\n",
       "      <th>Playoffs</th>\n",
       "    </tr>\n",
       "  </thead>\n",
       "  <tbody>\n",
       "    <tr>\n",
       "      <th>0</th>\n",
       "      <td>1</td>\n",
       "      <td>21200001</td>\n",
       "      <td>1610612764</td>\n",
       "      <td>24</td>\n",
       "      <td>15</td>\n",
       "      <td>23</td>\n",
       "      <td>22</td>\n",
       "      <td>0</td>\n",
       "      <td>0</td>\n",
       "      <td>0</td>\n",
       "      <td>0</td>\n",
       "      <td>84</td>\n",
       "      <td>0.356</td>\n",
       "      <td>0.600</td>\n",
       "      <td>0.250</td>\n",
       "      <td>26</td>\n",
       "      <td>39</td>\n",
       "      <td>12</td>\n",
       "      <td>0</td>\n",
       "    </tr>\n",
       "    <tr>\n",
       "      <th>1</th>\n",
       "      <td>1</td>\n",
       "      <td>21200001</td>\n",
       "      <td>1610612739</td>\n",
       "      <td>31</td>\n",
       "      <td>19</td>\n",
       "      <td>24</td>\n",
       "      <td>20</td>\n",
       "      <td>0</td>\n",
       "      <td>0</td>\n",
       "      <td>0</td>\n",
       "      <td>0</td>\n",
       "      <td>94</td>\n",
       "      <td>0.456</td>\n",
       "      <td>0.682</td>\n",
       "      <td>0.350</td>\n",
       "      <td>22</td>\n",
       "      <td>54</td>\n",
       "      <td>20</td>\n",
       "      <td>0</td>\n",
       "    </tr>\n",
       "    <tr>\n",
       "      <th>2</th>\n",
       "      <td>2</td>\n",
       "      <td>21200002</td>\n",
       "      <td>1610612738</td>\n",
       "      <td>25</td>\n",
       "      <td>29</td>\n",
       "      <td>22</td>\n",
       "      <td>31</td>\n",
       "      <td>0</td>\n",
       "      <td>0</td>\n",
       "      <td>0</td>\n",
       "      <td>0</td>\n",
       "      <td>107</td>\n",
       "      <td>0.520</td>\n",
       "      <td>0.821</td>\n",
       "      <td>0.462</td>\n",
       "      <td>24</td>\n",
       "      <td>41</td>\n",
       "      <td>15</td>\n",
       "      <td>1</td>\n",
       "    </tr>\n",
       "    <tr>\n",
       "      <th>3</th>\n",
       "      <td>2</td>\n",
       "      <td>21200002</td>\n",
       "      <td>1610612738</td>\n",
       "      <td>25</td>\n",
       "      <td>29</td>\n",
       "      <td>22</td>\n",
       "      <td>31</td>\n",
       "      <td>0</td>\n",
       "      <td>0</td>\n",
       "      <td>0</td>\n",
       "      <td>0</td>\n",
       "      <td>107</td>\n",
       "      <td>0.520</td>\n",
       "      <td>0.821</td>\n",
       "      <td>0.462</td>\n",
       "      <td>24</td>\n",
       "      <td>41</td>\n",
       "      <td>15</td>\n",
       "      <td>1</td>\n",
       "    </tr>\n",
       "    <tr>\n",
       "      <th>4</th>\n",
       "      <td>2</td>\n",
       "      <td>21200002</td>\n",
       "      <td>1610612738</td>\n",
       "      <td>25</td>\n",
       "      <td>29</td>\n",
       "      <td>22</td>\n",
       "      <td>31</td>\n",
       "      <td>0</td>\n",
       "      <td>0</td>\n",
       "      <td>0</td>\n",
       "      <td>0</td>\n",
       "      <td>107</td>\n",
       "      <td>0.520</td>\n",
       "      <td>0.821</td>\n",
       "      <td>0.462</td>\n",
       "      <td>24</td>\n",
       "      <td>41</td>\n",
       "      <td>15</td>\n",
       "      <td>1</td>\n",
       "    </tr>\n",
       "  </tbody>\n",
       "</table>\n",
       "</div>"
      ],
      "text/plain": [
       "   GAME_SEQUENCE   GAME_ID     TEAM_ID  PTS_QTR1  PTS_QTR2  PTS_QTR3  \\\n",
       "0              1  21200001  1610612764        24        15        23   \n",
       "1              1  21200001  1610612739        31        19        24   \n",
       "2              2  21200002  1610612738        25        29        22   \n",
       "3              2  21200002  1610612738        25        29        22   \n",
       "4              2  21200002  1610612738        25        29        22   \n",
       "\n",
       "   PTS_QTR4  PTS_OT1  PTS_OT2  PTS_OT3  PTS_OT4  PTS  FG_PCT  FT_PCT  FG3_PCT  \\\n",
       "0        22        0        0        0        0   84   0.356   0.600    0.250   \n",
       "1        20        0        0        0        0   94   0.456   0.682    0.350   \n",
       "2        31        0        0        0        0  107   0.520   0.821    0.462   \n",
       "3        31        0        0        0        0  107   0.520   0.821    0.462   \n",
       "4        31        0        0        0        0  107   0.520   0.821    0.462   \n",
       "\n",
       "   AST  REB  TOV  Playoffs  \n",
       "0   26   39   12         0  \n",
       "1   22   54   20         0  \n",
       "2   24   41   15         1  \n",
       "3   24   41   15         1  \n",
       "4   24   41   15         1  "
      ]
     },
     "execution_count": 2,
     "metadata": {},
     "output_type": "execute_result"
    }
   ],
   "source": [
    "df = pd.read_csv(\"./Resources/merged12_update.csv\")\n",
    "# Drop the null columns where all values are null\n",
    "#df = df.dropna(axis='columns', how='all')\n",
    "# Drop the null rows\n",
    "#df = df.dropna()\n",
    "df.replace(np.nan, 0)\n",
    "df.head()"
   ]
  },
  {
   "cell_type": "markdown",
   "metadata": {},
   "source": [
    "# Create a Train Test Split\n",
    "\n",
    "Use `Playoffs` for the y values"
   ]
  },
  {
   "cell_type": "code",
   "execution_count": 15,
   "metadata": {
    "scrolled": true
   },
   "outputs": [
    {
     "data": {
      "text/html": [
       "<div>\n",
       "<style scoped>\n",
       "    .dataframe tbody tr th:only-of-type {\n",
       "        vertical-align: middle;\n",
       "    }\n",
       "\n",
       "    .dataframe tbody tr th {\n",
       "        vertical-align: top;\n",
       "    }\n",
       "\n",
       "    .dataframe thead th {\n",
       "        text-align: right;\n",
       "    }\n",
       "</style>\n",
       "<table border=\"1\" class=\"dataframe\">\n",
       "  <thead>\n",
       "    <tr style=\"text-align: right;\">\n",
       "      <th></th>\n",
       "      <th>GAME_SEQUENCE</th>\n",
       "      <th>GAME_ID</th>\n",
       "      <th>TEAM_ID</th>\n",
       "      <th>PTS_QTR1</th>\n",
       "      <th>PTS_QTR2</th>\n",
       "      <th>PTS_QTR3</th>\n",
       "      <th>PTS_QTR4</th>\n",
       "      <th>PTS_OT1</th>\n",
       "      <th>PTS_OT2</th>\n",
       "      <th>PTS_OT3</th>\n",
       "      <th>PTS_OT4</th>\n",
       "      <th>PTS</th>\n",
       "      <th>FG_PCT</th>\n",
       "      <th>FT_PCT</th>\n",
       "      <th>FG3_PCT</th>\n",
       "      <th>AST</th>\n",
       "      <th>REB</th>\n",
       "      <th>TOV</th>\n",
       "    </tr>\n",
       "  </thead>\n",
       "  <tbody>\n",
       "    <tr>\n",
       "      <th>0</th>\n",
       "      <td>1</td>\n",
       "      <td>21200001</td>\n",
       "      <td>1610612764</td>\n",
       "      <td>24</td>\n",
       "      <td>15</td>\n",
       "      <td>23</td>\n",
       "      <td>22</td>\n",
       "      <td>0</td>\n",
       "      <td>0</td>\n",
       "      <td>0</td>\n",
       "      <td>0</td>\n",
       "      <td>84</td>\n",
       "      <td>0.356</td>\n",
       "      <td>0.600</td>\n",
       "      <td>0.250</td>\n",
       "      <td>26</td>\n",
       "      <td>39</td>\n",
       "      <td>12</td>\n",
       "    </tr>\n",
       "    <tr>\n",
       "      <th>1</th>\n",
       "      <td>1</td>\n",
       "      <td>21200001</td>\n",
       "      <td>1610612739</td>\n",
       "      <td>31</td>\n",
       "      <td>19</td>\n",
       "      <td>24</td>\n",
       "      <td>20</td>\n",
       "      <td>0</td>\n",
       "      <td>0</td>\n",
       "      <td>0</td>\n",
       "      <td>0</td>\n",
       "      <td>94</td>\n",
       "      <td>0.456</td>\n",
       "      <td>0.682</td>\n",
       "      <td>0.350</td>\n",
       "      <td>22</td>\n",
       "      <td>54</td>\n",
       "      <td>20</td>\n",
       "    </tr>\n",
       "    <tr>\n",
       "      <th>2</th>\n",
       "      <td>2</td>\n",
       "      <td>21200002</td>\n",
       "      <td>1610612738</td>\n",
       "      <td>25</td>\n",
       "      <td>29</td>\n",
       "      <td>22</td>\n",
       "      <td>31</td>\n",
       "      <td>0</td>\n",
       "      <td>0</td>\n",
       "      <td>0</td>\n",
       "      <td>0</td>\n",
       "      <td>107</td>\n",
       "      <td>0.520</td>\n",
       "      <td>0.821</td>\n",
       "      <td>0.462</td>\n",
       "      <td>24</td>\n",
       "      <td>41</td>\n",
       "      <td>15</td>\n",
       "    </tr>\n",
       "    <tr>\n",
       "      <th>3</th>\n",
       "      <td>2</td>\n",
       "      <td>21200002</td>\n",
       "      <td>1610612738</td>\n",
       "      <td>25</td>\n",
       "      <td>29</td>\n",
       "      <td>22</td>\n",
       "      <td>31</td>\n",
       "      <td>0</td>\n",
       "      <td>0</td>\n",
       "      <td>0</td>\n",
       "      <td>0</td>\n",
       "      <td>107</td>\n",
       "      <td>0.520</td>\n",
       "      <td>0.821</td>\n",
       "      <td>0.462</td>\n",
       "      <td>24</td>\n",
       "      <td>41</td>\n",
       "      <td>15</td>\n",
       "    </tr>\n",
       "    <tr>\n",
       "      <th>4</th>\n",
       "      <td>2</td>\n",
       "      <td>21200002</td>\n",
       "      <td>1610612738</td>\n",
       "      <td>25</td>\n",
       "      <td>29</td>\n",
       "      <td>22</td>\n",
       "      <td>31</td>\n",
       "      <td>0</td>\n",
       "      <td>0</td>\n",
       "      <td>0</td>\n",
       "      <td>0</td>\n",
       "      <td>107</td>\n",
       "      <td>0.520</td>\n",
       "      <td>0.821</td>\n",
       "      <td>0.462</td>\n",
       "      <td>24</td>\n",
       "      <td>41</td>\n",
       "      <td>15</td>\n",
       "    </tr>\n",
       "    <tr>\n",
       "      <th>...</th>\n",
       "      <td>...</td>\n",
       "      <td>...</td>\n",
       "      <td>...</td>\n",
       "      <td>...</td>\n",
       "      <td>...</td>\n",
       "      <td>...</td>\n",
       "      <td>...</td>\n",
       "      <td>...</td>\n",
       "      <td>...</td>\n",
       "      <td>...</td>\n",
       "      <td>...</td>\n",
       "      <td>...</td>\n",
       "      <td>...</td>\n",
       "      <td>...</td>\n",
       "      <td>...</td>\n",
       "      <td>...</td>\n",
       "      <td>...</td>\n",
       "      <td>...</td>\n",
       "    </tr>\n",
       "    <tr>\n",
       "      <th>15083</th>\n",
       "      <td>15</td>\n",
       "      <td>21201230</td>\n",
       "      <td>1610612744</td>\n",
       "      <td>24</td>\n",
       "      <td>26</td>\n",
       "      <td>16</td>\n",
       "      <td>33</td>\n",
       "      <td>0</td>\n",
       "      <td>0</td>\n",
       "      <td>0</td>\n",
       "      <td>0</td>\n",
       "      <td>99</td>\n",
       "      <td>0.430</td>\n",
       "      <td>0.769</td>\n",
       "      <td>0.429</td>\n",
       "      <td>21</td>\n",
       "      <td>52</td>\n",
       "      <td>12</td>\n",
       "    </tr>\n",
       "    <tr>\n",
       "      <th>15084</th>\n",
       "      <td>15</td>\n",
       "      <td>21201230</td>\n",
       "      <td>1610612744</td>\n",
       "      <td>24</td>\n",
       "      <td>26</td>\n",
       "      <td>16</td>\n",
       "      <td>33</td>\n",
       "      <td>0</td>\n",
       "      <td>0</td>\n",
       "      <td>0</td>\n",
       "      <td>0</td>\n",
       "      <td>99</td>\n",
       "      <td>0.430</td>\n",
       "      <td>0.769</td>\n",
       "      <td>0.429</td>\n",
       "      <td>21</td>\n",
       "      <td>52</td>\n",
       "      <td>12</td>\n",
       "    </tr>\n",
       "    <tr>\n",
       "      <th>15085</th>\n",
       "      <td>15</td>\n",
       "      <td>21201230</td>\n",
       "      <td>1610612744</td>\n",
       "      <td>24</td>\n",
       "      <td>26</td>\n",
       "      <td>16</td>\n",
       "      <td>33</td>\n",
       "      <td>0</td>\n",
       "      <td>0</td>\n",
       "      <td>0</td>\n",
       "      <td>0</td>\n",
       "      <td>99</td>\n",
       "      <td>0.430</td>\n",
       "      <td>0.769</td>\n",
       "      <td>0.429</td>\n",
       "      <td>21</td>\n",
       "      <td>52</td>\n",
       "      <td>12</td>\n",
       "    </tr>\n",
       "    <tr>\n",
       "      <th>15086</th>\n",
       "      <td>15</td>\n",
       "      <td>21201230</td>\n",
       "      <td>1610612744</td>\n",
       "      <td>24</td>\n",
       "      <td>26</td>\n",
       "      <td>16</td>\n",
       "      <td>33</td>\n",
       "      <td>0</td>\n",
       "      <td>0</td>\n",
       "      <td>0</td>\n",
       "      <td>0</td>\n",
       "      <td>99</td>\n",
       "      <td>0.430</td>\n",
       "      <td>0.769</td>\n",
       "      <td>0.429</td>\n",
       "      <td>21</td>\n",
       "      <td>52</td>\n",
       "      <td>12</td>\n",
       "    </tr>\n",
       "    <tr>\n",
       "      <th>15087</th>\n",
       "      <td>15</td>\n",
       "      <td>21201230</td>\n",
       "      <td>1610612757</td>\n",
       "      <td>17</td>\n",
       "      <td>19</td>\n",
       "      <td>27</td>\n",
       "      <td>25</td>\n",
       "      <td>0</td>\n",
       "      <td>0</td>\n",
       "      <td>0</td>\n",
       "      <td>0</td>\n",
       "      <td>88</td>\n",
       "      <td>0.427</td>\n",
       "      <td>0.857</td>\n",
       "      <td>0.500</td>\n",
       "      <td>18</td>\n",
       "      <td>42</td>\n",
       "      <td>14</td>\n",
       "    </tr>\n",
       "  </tbody>\n",
       "</table>\n",
       "<p>15088 rows × 18 columns</p>\n",
       "</div>"
      ],
      "text/plain": [
       "       GAME_SEQUENCE   GAME_ID     TEAM_ID  PTS_QTR1  PTS_QTR2  PTS_QTR3  \\\n",
       "0                  1  21200001  1610612764        24        15        23   \n",
       "1                  1  21200001  1610612739        31        19        24   \n",
       "2                  2  21200002  1610612738        25        29        22   \n",
       "3                  2  21200002  1610612738        25        29        22   \n",
       "4                  2  21200002  1610612738        25        29        22   \n",
       "...              ...       ...         ...       ...       ...       ...   \n",
       "15083             15  21201230  1610612744        24        26        16   \n",
       "15084             15  21201230  1610612744        24        26        16   \n",
       "15085             15  21201230  1610612744        24        26        16   \n",
       "15086             15  21201230  1610612744        24        26        16   \n",
       "15087             15  21201230  1610612757        17        19        27   \n",
       "\n",
       "       PTS_QTR4  PTS_OT1  PTS_OT2  PTS_OT3  PTS_OT4  PTS  FG_PCT  FT_PCT  \\\n",
       "0            22        0        0        0        0   84   0.356   0.600   \n",
       "1            20        0        0        0        0   94   0.456   0.682   \n",
       "2            31        0        0        0        0  107   0.520   0.821   \n",
       "3            31        0        0        0        0  107   0.520   0.821   \n",
       "4            31        0        0        0        0  107   0.520   0.821   \n",
       "...         ...      ...      ...      ...      ...  ...     ...     ...   \n",
       "15083        33        0        0        0        0   99   0.430   0.769   \n",
       "15084        33        0        0        0        0   99   0.430   0.769   \n",
       "15085        33        0        0        0        0   99   0.430   0.769   \n",
       "15086        33        0        0        0        0   99   0.430   0.769   \n",
       "15087        25        0        0        0        0   88   0.427   0.857   \n",
       "\n",
       "       FG3_PCT  AST  REB  TOV  \n",
       "0        0.250   26   39   12  \n",
       "1        0.350   22   54   20  \n",
       "2        0.462   24   41   15  \n",
       "3        0.462   24   41   15  \n",
       "4        0.462   24   41   15  \n",
       "...        ...  ...  ...  ...  \n",
       "15083    0.429   21   52   12  \n",
       "15084    0.429   21   52   12  \n",
       "15085    0.429   21   52   12  \n",
       "15086    0.429   21   52   12  \n",
       "15087    0.500   18   42   14  \n",
       "\n",
       "[15088 rows x 18 columns]"
      ]
     },
     "execution_count": 15,
     "metadata": {},
     "output_type": "execute_result"
    }
   ],
   "source": [
    "y=df[\"Playoffs\"]\n",
    "X=df.drop(columns=[\"Playoffs\"])\n",
    "X"
   ]
  },
  {
   "cell_type": "code",
   "execution_count": 4,
   "metadata": {},
   "outputs": [],
   "source": [
    "from sklearn.model_selection import train_test_split\n",
    "\n",
    "X_train, X_test, y_train, y_test = train_test_split(X, y, random_state=1)"
   ]
  },
  {
   "cell_type": "code",
   "execution_count": 5,
   "metadata": {},
   "outputs": [
    {
     "data": {
      "text/plain": [
       "((11316, 18), (3772, 18))"
      ]
     },
     "execution_count": 5,
     "metadata": {},
     "output_type": "execute_result"
    }
   ],
   "source": [
    "X_train.shape, X_test.shape"
   ]
  },
  {
   "cell_type": "markdown",
   "metadata": {},
   "source": [
    "# Pre-processing\n",
    "\n",
    "Scale the data using the MinMaxScaler and perform some feature selection"
   ]
  },
  {
   "cell_type": "code",
   "execution_count": 6,
   "metadata": {},
   "outputs": [],
   "source": [
    "# Scale your data\n",
    "from sklearn.preprocessing import MinMaxScaler\n",
    "X_scaler = MinMaxScaler().fit(X_train)\n",
    "X_train_scaled = X_scaler.transform(X_train)\n",
    "X_test_scaled = X_scaler.transform(X_test)"
   ]
  },
  {
   "cell_type": "markdown",
   "metadata": {},
   "source": [
    "# Train the Model\n",
    "\n"
   ]
  },
  {
   "cell_type": "code",
   "execution_count": 7,
   "metadata": {},
   "outputs": [
    {
     "data": {
      "text/plain": [
       "LogisticRegression()"
      ]
     },
     "execution_count": 7,
     "metadata": {},
     "output_type": "execute_result"
    }
   ],
   "source": [
    "from sklearn.linear_model import LogisticRegression\n",
    "classifier = LogisticRegression()\n",
    "classifier"
   ]
  },
  {
   "cell_type": "code",
   "execution_count": 8,
   "metadata": {
    "scrolled": false
   },
   "outputs": [
    {
     "data": {
      "text/plain": [
       "LogisticRegression()"
      ]
     },
     "execution_count": 8,
     "metadata": {},
     "output_type": "execute_result"
    }
   ],
   "source": [
    "classifier.fit(X_train_scaled, y_train)"
   ]
  },
  {
   "cell_type": "code",
   "execution_count": 10,
   "metadata": {},
   "outputs": [
    {
     "data": {
      "text/plain": [
       "array([ 0.30105996, -0.09668788, -2.21724537,  0.19135457,  0.61081264,\n",
       "        0.05500472, -0.08914002,  0.26812065, -0.12703756, -0.92650582,\n",
       "        0.        ,  0.16056554,  2.40989065,  0.59979933,  0.58546472,\n",
       "       -1.35831106,  1.59912522, -0.734467  ])"
      ]
     },
     "execution_count": 10,
     "metadata": {},
     "output_type": "execute_result"
    }
   ],
   "source": [
    "importance = classifier.coef_[0]\n",
    "importance"
   ]
  },
  {
   "cell_type": "code",
   "execution_count": 11,
   "metadata": {},
   "outputs": [
    {
     "name": "stdout",
     "output_type": "stream",
     "text": [
      "Feature: 0, Score: 0.30106\n",
      "Feature: 1, Score: -0.09669\n",
      "Feature: 2, Score: -2.21725\n",
      "Feature: 3, Score: 0.19135\n",
      "Feature: 4, Score: 0.61081\n",
      "Feature: 5, Score: 0.05500\n",
      "Feature: 6, Score: -0.08914\n",
      "Feature: 7, Score: 0.26812\n",
      "Feature: 8, Score: -0.12704\n",
      "Feature: 9, Score: -0.92651\n",
      "Feature: 10, Score: 0.00000\n",
      "Feature: 11, Score: 0.16057\n",
      "Feature: 12, Score: 2.40989\n",
      "Feature: 13, Score: 0.59980\n",
      "Feature: 14, Score: 0.58546\n",
      "Feature: 15, Score: -1.35831\n",
      "Feature: 16, Score: 1.59913\n",
      "Feature: 17, Score: -0.73447\n"
     ]
    }
   ],
   "source": [
    "for i,v in enumerate(importance):\n",
    "\tprint('Feature: %0d, Score: %.5f' % (i,v))"
   ]
  },
  {
   "cell_type": "code",
   "execution_count": 20,
   "metadata": {},
   "outputs": [
    {
     "data": {
      "image/png": "[encoded data removed]",
      "text/plain": [
       "<Figure size 432x288 with 1 Axes>"
      ]
     },
     "metadata": {
      "needs_background": "light"
     },
     "output_type": "display_data"
    }
   ],
   "source": [
    "pyplot.bar([x for x in range(len(importance))], importance, color = 'g', alpha = 0.5, align = 'center')\n",
    "tick_locations = [x for x in range(len(importance))]\n",
    "pyplot.xticks(tick_locations, [\"Game Sequence\", \"Game ID\", \"Team ID\", \"Q1 Pts\", \"Q2 Pts\", \"Q3 Pts\", \n",
    "                            \"Q4 Pts\", \"Pts OT1\", \"Pts OT2\", \"Pts OT3\", \"Pts OT4\", \"Pts\", \"FGPct\", \"FTPct\",\"FG3Pct\", \"AST\", \"REB\", \"TOV\"],\n",
    "                              rotation = 'vertical')\n",
    "pyplot.title(\"Feature Importance Chart\")\n",
    "pyplot.xlabel(\"Feature\")\n",
    "pyplot.ylabel(\"Importance\")\n",
    "pyplot.show()"
   ]
  },
  {
   "cell_type": "code",
   "execution_count": 24,
   "metadata": {
    "scrolled": true
   },
   "outputs": [
    {
     "name": "stdout",
     "output_type": "stream",
     "text": [
      "Training Data Score: 0.9220572640509014\n",
      "Testing Data Score: 0.9244432661717922\n"
     ]
    }
   ],
   "source": [
    "print(f\"Training Data Score: {classifier.score(X_train_scaled, y_train)}\")\n",
    "print(f\"Testing Data Score: {classifier.score(X_test_scaled, y_test)}\")"
   ]
  }
 ],
 "metadata": {
  "kernel_info": {
   "name": "dev"
  },
  "kernelspec": {
   "display_name": "Python 3",
   "language": "python",
   "name": "python3"
  },
  "language_info": {
   "codemirror_mode": {
    "name": "ipython",
    "version": 3
   },
   "file_extension": ".py",
   "mimetype": "text/x-python",
   "name": "python",
   "nbconvert_exporter": "python",
   "pygments_lexer": "ipython3",
   "version": "3.8.3"
  },
  "nteract": {
   "version": "0.12.3"
  }
 },
 "nbformat": 4,
 "nbformat_minor": 2
}
